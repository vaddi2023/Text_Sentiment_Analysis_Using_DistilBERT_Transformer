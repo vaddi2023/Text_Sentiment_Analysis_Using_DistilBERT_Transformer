{
 "cells": [
  {
   "cell_type": "markdown",
   "metadata": {},
   "source": [
    "# Text Sentiment Analysis using DistilBERT Transformer"
   ]
  },
  {
   "cell_type": "markdown",
   "metadata": {},
   "source": [
    "Library Imports"
   ]
  },
  {
   "cell_type": "code",
   "execution_count": null,
   "metadata": {},
   "outputs": [],
   "source": [
    "import torch\n",
    "from torch.utils.data import DataLoader, random_split\n",
    "from transformers import DistilBertTokenizerFast, get_scheduler\n",
    "from torch.optim import AdamW\n",
    "from datasets import load_dataset\n",
    "from sklearn.metrics import classification_report, confusion_matrix, accuracy_score, precision_score, recall_score, f1_score, confusion_matrix\n",
    "import seaborn as sns\n",
    "import matplotlib.pyplot as plt\n",
    "import numpy as np\n",
    "import pandas as pd\n",
    "from tqdm import tqdm\n",
    "import os\n",
    "import re\n",
    "import nltk\n",
    "from nltk.corpus import stopwords\n",
    "from textblob import TextBlob\n"
   ]
  },
  {
   "cell_type": "markdown",
   "metadata": {},
   "source": [
    "Device check"
   ]
  },
  {
   "cell_type": "code",
   "execution_count": 48,
   "metadata": {},
   "outputs": [
    {
     "data": {
      "text/plain": [
       "device(type='cpu')"
      ]
     },
     "execution_count": 48,
     "metadata": {},
     "output_type": "execute_result"
    }
   ],
   "source": [
    "# Check device\n",
    "device = torch.device(\"cuda\" if torch.cuda.is_available() else \"cpu\")\n",
    "device"
   ]
  },
  {
   "cell_type": "markdown",
   "metadata": {},
   "source": [
    "Data Cleaning & Preprocessing"
   ]
  },
  {
   "cell_type": "code",
   "execution_count": null,
   "metadata": {},
   "outputs": [
    {
     "name": "stderr",
     "output_type": "stream",
     "text": [
      "[nltk_data] Downloading package stopwords to\n",
      "[nltk_data]     C:\\Users\\DELL\\AppData\\Roaming\\nltk_data...\n",
      "[nltk_data]   Package stopwords is already up-to-date!\n"
     ]
    }
   ],
   "source": [
    "# Data cleaning and preprocessing\n",
    "\n",
    "# Download stopwords\n",
    "nltk.download('stopwords')\n",
    "stop_words = set(stopwords.words('english'))\n",
    "\n",
    "def clean_text(text):\n",
    "    text = text.lower()\n",
    "    text = re.sub(r'[^a-z\\s]', '', text)\n",
    "    text = re.sub(r'\\s+', ' ', text).strip()\n",
    "\n",
    "    filtered = [word for word in text.split() if word not in stop_words or word in [\"not\", \"no\", \"n't\"]]\n",
    "    text = ' '.join(filtered)\n",
    "\n",
    "    if len(text.split()) > 3:\n",
    "        text = str(TextBlob(text).correct())\n",
    "    return text\n"
   ]
  },
  {
   "cell_type": "markdown",
   "metadata": {},
   "source": [
    "Load dataset and sampling"
   ]
  },
  {
   "cell_type": "code",
   "execution_count": 50,
   "metadata": {},
   "outputs": [],
   "source": [
    "# Load and sample IMDB dataset\n",
    "dataset = load_dataset(\"imdb\")\n",
    "small_train_dataset = dataset['train'].shuffle(seed=42).select(range(500))\n",
    "small_test_dataset = dataset['test'].shuffle(seed=42).select(range(100))"
   ]
  },
  {
   "cell_type": "markdown",
   "metadata": {},
   "source": [
    "Text Preprocessing"
   ]
  },
  {
   "cell_type": "code",
   "execution_count": 51,
   "metadata": {},
   "outputs": [
    {
     "data": {
      "application/vnd.jupyter.widget-view+json": {
       "model_id": "e179778f07c94a40ba1e569f8330ece0",
       "version_major": 2,
       "version_minor": 0
      },
      "text/plain": [
       "Map:   0%|          | 0/500 [00:00<?, ? examples/s]"
      ]
     },
     "metadata": {},
     "output_type": "display_data"
    },
    {
     "data": {
      "application/vnd.jupyter.widget-view+json": {
       "model_id": "39a293e00eb04214ae5cb19073e734d7",
       "version_major": 2,
       "version_minor": 0
      },
      "text/plain": [
       "Map:   0%|          | 0/100 [00:00<?, ? examples/s]"
      ]
     },
     "metadata": {},
     "output_type": "display_data"
    }
   ],
   "source": [
    "# Apply text preprocessing to both train and test sets\n",
    "small_train_dataset = small_train_dataset.map(lambda x: {'text': clean_text(x['text'])})\n",
    "small_test_dataset = small_test_dataset.map(lambda x: {'text': clean_text(x['text'])})"
   ]
  },
  {
   "cell_type": "markdown",
   "metadata": {},
   "source": [
    "Plot - Data distribution on Test sample"
   ]
  },
  {
   "cell_type": "code",
   "execution_count": 95,
   "metadata": {},
   "outputs": [
    {
     "name": "stderr",
     "output_type": "stream",
     "text": [
      "C:\\Users\\DELL\\AppData\\Local\\Temp\\ipykernel_1752\\2851171591.py:11: FutureWarning: \n",
      "\n",
      "Passing `palette` without assigning `hue` is deprecated and will be removed in v0.14.0. Assign the `x` variable to `hue` and set `legend=False` for the same effect.\n",
      "\n",
      "  ax = sns.countplot(data=label_df, x='label', width=0.5, palette='pastel', edgecolor='black')  # width adjusted here\n"
     ]
    },
    {
     "data": {
      "image/png": "[encoded data removed]",
      "text/plain": [
       "<Figure size 600x400 with 1 Axes>"
      ]
     },
     "metadata": {},
     "output_type": "display_data"
    }
   ],
   "source": [
    "# Prepare label data\n",
    "labels = [example['label'] for example in small_train_dataset]\n",
    "label_df = pd.DataFrame(labels, columns=['label'])\n",
    "label_df['label'] = label_df['label'].map({0: 'Negative', 1: 'Positive'})\n",
    "\n",
    "# Set a cleaner style\n",
    "sns.set(style=\"whitegrid\", font_scale=1.2)\n",
    "\n",
    "# Create count plot with reduced bar width\n",
    "plt.figure(figsize=(6, 4))\n",
    "ax = sns.countplot(data=label_df, x='label', width=0.5, palette='pastel', edgecolor='black')  # width adjusted here\n",
    "\n",
    "# Add counts on top of bars\n",
    "for p in ax.patches:\n",
    "    count = int(p.get_height())\n",
    "    ax.annotate(f'{count}', (p.get_x() + p.get_width() / 2, p.get_height() + 1), \n",
    "                ha='center', va='bottom', fontsize=12)\n",
    "\n",
    "# Customize the plot\n",
    "plt.title(\"Label Distribution in Sampled IMDB Training Set\", fontsize=14, weight='bold')\n",
    "plt.xlabel(\"Sentiment\", fontsize=12)\n",
    "plt.ylabel(\"Count\", fontsize=12)\n",
    "plt.tight_layout()\n",
    "plt.show()\n"
   ]
  },
  {
   "cell_type": "markdown",
   "metadata": {},
   "source": [
    "The bar chart shows that the sampled IMDB training dataset is well-balanced, with 246 positive and 254 negative reviews. This balance helps ensure fair and unbiased model training for sentiment classification."
   ]
  },
  {
   "cell_type": "markdown",
   "metadata": {},
   "source": [
    "Load Model and Tokenizer"
   ]
  },
  {
   "cell_type": "code",
   "execution_count": 53,
   "metadata": {},
   "outputs": [],
   "source": [
    "from transformers import DistilBertModel\n",
    "import torch.nn as nn\n",
    "\n",
    "class DistilBERTBinaryClassifier(nn.Module):\n",
    "    def __init__(self, dropout_rate=0.3):\n",
    "        super(DistilBERTBinaryClassifier, self).__init__()\n",
    "        self.bert = DistilBertModel.from_pretrained('distilbert-base-uncased')\n",
    "        self.dropout = nn.Dropout(dropout_rate)\n",
    "        self.classifier = nn.Linear(self.bert.config.hidden_size, 1)  # One output logit for BCEWithLogitsLoss\n",
    "\n",
    "    def forward(self, input_ids, attention_mask):\n",
    "        output = self.bert(input_ids=input_ids, attention_mask=attention_mask)\n",
    "        hidden_state = output.last_hidden_state[:, 0]  # CLS token\n",
    "        dropped = self.dropout(hidden_state)\n",
    "        logits = self.classifier(dropped)\n",
    "        return logits"
   ]
  },
  {
   "cell_type": "code",
   "execution_count": 54,
   "metadata": {},
   "outputs": [
    {
     "data": {
      "text/plain": [
       "DistilBERTBinaryClassifier(\n",
       "  (bert): DistilBertModel(\n",
       "    (embeddings): Embeddings(\n",
       "      (word_embeddings): Embedding(30522, 768, padding_idx=0)\n",
       "      (position_embeddings): Embedding(512, 768)\n",
       "      (LayerNorm): LayerNorm((768,), eps=1e-12, elementwise_affine=True)\n",
       "      (dropout): Dropout(p=0.1, inplace=False)\n",
       "    )\n",
       "    (transformer): Transformer(\n",
       "      (layer): ModuleList(\n",
       "        (0-5): 6 x TransformerBlock(\n",
       "          (attention): DistilBertSdpaAttention(\n",
       "            (dropout): Dropout(p=0.1, inplace=False)\n",
       "            (q_lin): Linear(in_features=768, out_features=768, bias=True)\n",
       "            (k_lin): Linear(in_features=768, out_features=768, bias=True)\n",
       "            (v_lin): Linear(in_features=768, out_features=768, bias=True)\n",
       "            (out_lin): Linear(in_features=768, out_features=768, bias=True)\n",
       "          )\n",
       "          (sa_layer_norm): LayerNorm((768,), eps=1e-12, elementwise_affine=True)\n",
       "          (ffn): FFN(\n",
       "            (dropout): Dropout(p=0.1, inplace=False)\n",
       "            (lin1): Linear(in_features=768, out_features=3072, bias=True)\n",
       "            (lin2): Linear(in_features=3072, out_features=768, bias=True)\n",
       "            (activation): GELUActivation()\n",
       "          )\n",
       "          (output_layer_norm): LayerNorm((768,), eps=1e-12, elementwise_affine=True)\n",
       "        )\n",
       "      )\n",
       "    )\n",
       "  )\n",
       "  (dropout): Dropout(p=0.3, inplace=False)\n",
       "  (classifier): Linear(in_features=768, out_features=1, bias=True)\n",
       ")"
      ]
     },
     "execution_count": 54,
     "metadata": {},
     "output_type": "execute_result"
    }
   ],
   "source": [
    "# Load tokenizer and model\n",
    "dropout_rate = 0.3\n",
    "tokenizer = DistilBertTokenizerFast.from_pretrained('distilbert-base-uncased')\n",
    "model = DistilBERTBinaryClassifier(dropout_rate=dropout_rate).to(device)\n",
    "model.to(device)"
   ]
  },
  {
   "cell_type": "code",
   "execution_count": 55,
   "metadata": {},
   "outputs": [
    {
     "data": {
      "application/vnd.jupyter.widget-view+json": {
       "model_id": "254f8da0aa4d489c967406b92d185253",
       "version_major": 2,
       "version_minor": 0
      },
      "text/plain": [
       "Map:   0%|          | 0/500 [00:00<?, ? examples/s]"
      ]
     },
     "metadata": {},
     "output_type": "display_data"
    },
    {
     "data": {
      "application/vnd.jupyter.widget-view+json": {
       "model_id": "fd6e88c23fd742f192e7659d12c51c92",
       "version_major": 2,
       "version_minor": 0
      },
      "text/plain": [
       "Map:   0%|          | 0/100 [00:00<?, ? examples/s]"
      ]
     },
     "metadata": {},
     "output_type": "display_data"
    }
   ],
   "source": [
    "# Tokenization function\n",
    "def tokenize(batch):\n",
    "    return tokenizer(batch['text'], padding='max_length', truncation=True, max_length=512)\n",
    "\n",
    "# Tokenize datasets\n",
    "tokenized_dataset = small_train_dataset.map(tokenize, batched=True)\n",
    "tokenized_test = small_test_dataset.map(tokenize, batched=True)\n",
    "tokenized_dataset.set_format(type='torch', columns=['input_ids', 'attention_mask', 'label'])\n",
    "tokenized_test.set_format(type='torch', columns=['input_ids', 'attention_mask', 'label'])\n",
    "\n"
   ]
  },
  {
   "cell_type": "markdown",
   "metadata": {},
   "source": [
    "Hyperparameters"
   ]
  },
  {
   "cell_type": "code",
   "execution_count": 56,
   "metadata": {},
   "outputs": [],
   "source": [
    "# Hyperparameters\n",
    "EPOCHS = 5\n",
    "LEARNING_RATE = 2e-5\n",
    "BATCH_SIZE = 16\n",
    "DROPOUT = 0.3\n",
    "EARLY_STOPPING_PATIENCE = 2\n",
    "MAX_GRAD_NORM = 1.0\n",
    "WEIGHT_DECAY = 0.01\n",
    "WARMUP_STEPS = 0"
   ]
  },
  {
   "cell_type": "markdown",
   "metadata": {},
   "source": [
    "Train Test Split and DataLoad"
   ]
  },
  {
   "cell_type": "code",
   "execution_count": 57,
   "metadata": {},
   "outputs": [],
   "source": [
    "# Split train/validation\n",
    "train_size = int(0.8 * len(tokenized_dataset))\n",
    "val_size = len(tokenized_dataset) - train_size\n",
    "tokenized_train, tokenized_val = random_split(tokenized_dataset, [train_size, val_size])\n",
    "\n",
    "# DataLoaders\n",
    "train_loader = DataLoader(tokenized_train, batch_size=BATCH_SIZE, shuffle=True)\n",
    "val_loader = DataLoader(tokenized_val, batch_size=BATCH_SIZE)\n",
    "test_loader = DataLoader(tokenized_test, batch_size=BATCH_SIZE)\n"
   ]
  },
  {
   "cell_type": "code",
   "execution_count": 58,
   "metadata": {},
   "outputs": [],
   "source": [
    "# Optimizer and Scheduler\n",
    "loss_fn = nn.BCEWithLogitsLoss()\n",
    "optimizer = AdamW(\n",
    "    model.parameters(), \n",
    "    lr=LEARNING_RATE, \n",
    "    weight_decay=WEIGHT_DECAY\n",
    ")\n",
    "num_training_steps = len(train_loader) * EPOCHS\n",
    "lr_scheduler = get_scheduler(\n",
    "    name=\"linear\",\n",
    "    optimizer=optimizer,\n",
    "    num_warmup_steps=WARMUP_STEPS,\n",
    "    num_training_steps=num_training_steps,\n",
    ")\n",
    "\n"
   ]
  },
  {
   "cell_type": "markdown",
   "metadata": {},
   "source": [
    "Model Training & Performance Evaluation using Early Stopping"
   ]
  },
  {
   "cell_type": "code",
   "execution_count": null,
   "metadata": {},
   "outputs": [
    {
     "name": "stderr",
     "output_type": "stream",
     "text": [
      "Epoch 1: 100%|██████████| 25/25 [07:01<00:00, 16.87s/it, loss=0.673]\n"
     ]
    },
    {
     "name": "stdout",
     "output_type": "stream",
     "text": [
      "Validation Accuracy: 0.6400\n"
     ]
    },
    {
     "name": "stderr",
     "output_type": "stream",
     "text": [
      "Epoch 2: 100%|██████████| 25/25 [06:43<00:00, 16.14s/it, loss=0.47] \n"
     ]
    },
    {
     "name": "stdout",
     "output_type": "stream",
     "text": [
      "Validation Accuracy: 0.7100\n"
     ]
    },
    {
     "name": "stderr",
     "output_type": "stream",
     "text": [
      "Epoch 3: 100%|██████████| 25/25 [06:44<00:00, 16.16s/it, loss=0.261]\n"
     ]
    },
    {
     "name": "stdout",
     "output_type": "stream",
     "text": [
      "Validation Accuracy: 0.7600\n"
     ]
    },
    {
     "name": "stderr",
     "output_type": "stream",
     "text": [
      "Epoch 4: 100%|██████████| 25/25 [06:43<00:00, 16.15s/it, loss=0.275]\n"
     ]
    },
    {
     "name": "stdout",
     "output_type": "stream",
     "text": [
      "Validation Accuracy: 0.7900\n"
     ]
    },
    {
     "name": "stderr",
     "output_type": "stream",
     "text": [
      "Epoch 5: 100%|██████████| 25/25 [06:54<00:00, 16.59s/it, loss=0.208]\n"
     ]
    },
    {
     "name": "stdout",
     "output_type": "stream",
     "text": [
      "Validation Accuracy: 0.7900\n"
     ]
    }
   ],
   "source": [
    "# Training\n",
    "best_val_accuracy = 0\n",
    "patience_counter = 0\n",
    "\n",
    "train_losses = []\n",
    "val_losses = []\n",
    "train_accuracies = []\n",
    "val_accuracies = []\n",
    "\n",
    "for epoch in range(EPOCHS):\n",
    "    model.train()\n",
    "    total_loss = 0\n",
    "    correct_preds = 0\n",
    "    total_preds = 0\n",
    "    loop = tqdm(train_loader, leave=True)\n",
    "\n",
    "    for batch in loop:\n",
    "        input_ids = batch['input_ids'].to(device)\n",
    "        attention_mask = batch['attention_mask'].to(device)\n",
    "        labels = batch['label'].float().unsqueeze(1).to(device)\n",
    "\n",
    "        optimizer.zero_grad()\n",
    "        logits = model(input_ids, attention_mask)\n",
    "        loss = loss_fn(logits, labels)\n",
    "\n",
    "        loss.backward()\n",
    "        torch.nn.utils.clip_grad_norm_(model.parameters(), MAX_GRAD_NORM)\n",
    "        optimizer.step()\n",
    "        lr_scheduler.step()\n",
    "\n",
    "        total_loss += loss.item()\n",
    "\n",
    "        # For training accuracy\n",
    "        probs = torch.sigmoid(logits)\n",
    "        preds = (probs > 0.5).int()\n",
    "        correct_preds += (preds == labels.int()).sum().item()\n",
    "        total_preds += labels.size(0)\n",
    "\n",
    "        loop.set_description(f\"Epoch {epoch + 1}\")\n",
    "        loop.set_postfix(loss=loss.item())\n",
    "\n",
    "    avg_train_loss = total_loss / len(train_loader)\n",
    "    train_acc = correct_preds / total_preds\n",
    "    train_losses.append(avg_train_loss)\n",
    "    train_accuracies.append(train_acc)\n",
    "\n",
    "    # Validation\n",
    "    model.eval()\n",
    "    val_logits = []\n",
    "    val_labels = []\n",
    "    val_loss_total = 0\n",
    "\n",
    "    with torch.no_grad():\n",
    "        for batch in val_loader:\n",
    "            input_ids = batch[\"input_ids\"].to(device)\n",
    "            attention_mask = batch[\"attention_mask\"].to(device)\n",
    "            labels = batch[\"label\"].float().unsqueeze(1).to(device)\n",
    "\n",
    "            outputs = model(input_ids, attention_mask)\n",
    "            loss = loss_fn(outputs, labels)\n",
    "            val_loss_total += loss.item()\n",
    "\n",
    "            val_logits.extend(outputs.squeeze().cpu().numpy())\n",
    "            val_labels.extend(labels.squeeze().cpu().numpy())\n",
    "\n",
    "    probs = torch.sigmoid(torch.tensor(val_logits))\n",
    "    val_preds = (probs > 0.5).int().numpy()\n",
    "    acc = accuracy_score(val_labels, val_preds)\n",
    "    avg_val_loss = val_loss_total / len(val_loader)\n",
    "\n",
    "    val_losses.append(avg_val_loss)\n",
    "    val_accuracies.append(acc)\n",
    "\n",
    "    print(f\"Validation Accuracy: {acc:.4f}\")\n",
    "\n",
    "    # Early stopping\n",
    "    if acc > best_val_accuracy:\n",
    "        best_val_accuracy = acc\n",
    "        patience_counter = 0\n",
    "        os.makedirs(\"models\", exist_ok=True)\n",
    "        torch.save(model.state_dict(), \"models/best_model.pt\")\n",
    "    else:\n",
    "        patience_counter += 1\n",
    "        if patience_counter >= EARLY_STOPPING_PATIENCE:\n",
    "            print(\"Early stopping triggered.\")\n",
    "            break\n"
   ]
  },
  {
   "cell_type": "markdown",
   "metadata": {},
   "source": [
    "Save Model and Tokenizer"
   ]
  },
  {
   "cell_type": "code",
   "execution_count": 60,
   "metadata": {},
   "outputs": [
    {
     "data": {
      "text/plain": [
       "('models/tokenizer/tokenizer_config.json',\n",
       " 'models/tokenizer/special_tokens_map.json',\n",
       " 'models/tokenizer/vocab.txt',\n",
       " 'models/tokenizer/added_tokens.json',\n",
       " 'models/tokenizer/tokenizer.json')"
      ]
     },
     "execution_count": 60,
     "metadata": {},
     "output_type": "execute_result"
    }
   ],
   "source": [
    "# Save final model and tokenizer\n",
    "torch.save(model.state_dict(), \"models/best_model.pt\")\n",
    "tokenizer.save_pretrained(\"models/tokenizer/\")"
   ]
  },
  {
   "cell_type": "markdown",
   "metadata": {},
   "source": [
    "Model Evaluation and Performance Metrics"
   ]
  },
  {
   "cell_type": "code",
   "execution_count": null,
   "metadata": {},
   "outputs": [],
   "source": [
    "model.load_state_dict(torch.load(\"models/best_model.pt\"))\n",
    "model.eval()\n",
    "\n",
    "all_logits = []\n",
    "all_labels = []\n",
    "\n",
    "with torch.no_grad():\n",
    "    for batch in test_loader:\n",
    "        input_ids = batch['input_ids'].to(device)\n",
    "        attention_mask = batch['attention_mask'].to(device)\n",
    "        labels = batch['label'].to(device).unsqueeze(1)\n",
    "\n",
    "        logits = model(input_ids, attention_mask)\n",
    "        all_logits.extend(logits.squeeze().cpu().numpy())\n",
    "        all_labels.extend(labels.squeeze().cpu().numpy())\n",
    "\n",
    "# Apply sigmoid + threshold\n",
    "probs = torch.sigmoid(torch.tensor(all_logits))\n",
    "preds = (probs > 0.5).int().numpy()\n"
   ]
  },
  {
   "cell_type": "code",
   "execution_count": 62,
   "metadata": {},
   "outputs": [
    {
     "name": "stdout",
     "output_type": "stream",
     "text": [
      "Test Accuracy:  0.7900\n",
      "Precision:      0.7321\n",
      "Recall:         0.8723\n",
      "F1 Score:       0.7961\n",
      "Confusion Matrix:\n",
      "[[38 15]\n",
      " [ 6 41]]\n"
     ]
    }
   ],
   "source": [
    "# Metrics\n",
    "accuracy = accuracy_score(all_labels, preds)\n",
    "precision = precision_score(all_labels, preds)\n",
    "recall = recall_score(all_labels, preds)\n",
    "f1 = f1_score(all_labels, preds)\n",
    "cm = confusion_matrix(all_labels, preds)\n",
    "\n",
    "print(f\"Test Accuracy:  {accuracy:.4f}\")\n",
    "print(f\"Precision:      {precision:.4f}\")\n",
    "print(f\"Recall:         {recall:.4f}\")\n",
    "print(f\"F1 Score:       {f1:.4f}\")\n",
    "print(f\"Confusion Matrix:\\n{cm}\")"
   ]
  },
  {
   "cell_type": "markdown",
   "metadata": {},
   "source": [
    "Visualizations"
   ]
  },
  {
   "cell_type": "code",
   "execution_count": 108,
   "metadata": {},
   "outputs": [],
   "source": [
    "# Loss curve plot\n",
    "def plot_loss_curve(train_losses, val_losses):\n",
    "    plt.figure(figsize=(6, 4))\n",
    "    plt.plot(train_losses, marker='o', linestyle='-', label='Train Loss')\n",
    "    plt.plot(val_losses, marker='s', linestyle='--', label='Validation Loss')\n",
    "    plt.xlabel('Epoch', fontsize=10)\n",
    "    plt.ylabel('Loss', fontsize=10)\n",
    "    plt.title('Training vs Validation Loss', fontsize=12, weight='bold')\n",
    "    plt.legend()\n",
    "    plt.grid(alpha=0.3)\n",
    "    plt.tight_layout()\n",
    "    plt.show()\n",
    "\n",
    "# Accuracy curve plot\n",
    "def plot_accuracy_curve(train_accuracies, val_accuracies):\n",
    "    plt.figure(figsize=(6, 4))\n",
    "    plt.plot(train_accuracies, marker='o', linestyle='-', label='Train Accuracy')\n",
    "    plt.plot(val_accuracies, marker='s', linestyle='--', label='Validation Accuracy')\n",
    "    plt.xlabel('Epoch', fontsize=10)\n",
    "    plt.ylabel('Accuracy', fontsize=10)\n",
    "    plt.title('Training vs Validation Accuracy', fontsize=12, weight='bold')\n",
    "    plt.legend()\n",
    "    plt.grid(alpha=0.3)\n",
    "    plt.tight_layout()\n",
    "    plt.show()\n",
    "\n",
    "# Confusion matrix\n",
    "def plot_confusion_matrix(y_true, y_pred):\n",
    "    cm = confusion_matrix(y_true, y_pred)\n",
    "    plt.figure(figsize=(5, 4))\n",
    "    sns.heatmap(cm, annot=True, fmt=\"d\", cmap=\"Blues\", cbar=False,\n",
    "                xticklabels=[\"Negative\", \"Positive\"],\n",
    "                yticklabels=[\"Negative\", \"Positive\"],\n",
    "                linewidths=0.5, linecolor='gray')\n",
    "    plt.xlabel(\"Predicted\", fontsize=10)\n",
    "    plt.ylabel(\"Actual\", fontsize=10)\n",
    "    plt.title(\"Confusion Matrix\", fontsize=12, weight='bold')\n",
    "    plt.tight_layout()\n",
    "    plt.show()\n",
    "\n",
    "# Classification report as DataFrame\n",
    "def classification_report_table(y_true, y_pred):\n",
    "    report = classification_report(y_true, y_pred, output_dict=True, target_names=[\"Negative\", \"Positive\"])\n",
    "    df_report = pd.DataFrame(report).transpose().round(3)\n",
    "    return df_report\n"
   ]
  },
  {
   "cell_type": "code",
   "execution_count": 109,
   "metadata": {},
   "outputs": [
    {
     "data": {
      "image/png": "[encoded data removed]",
      "text/plain": [
       "<Figure size 600x400 with 1 Axes>"
      ]
     },
     "metadata": {},
     "output_type": "display_data"
    }
   ],
   "source": [
    "# Training/Validation Loss Curve\n",
    "plot_loss_curve(train_losses, val_losses)"
   ]
  },
  {
   "cell_type": "code",
   "execution_count": 103,
   "metadata": {},
   "outputs": [
    {
     "data": {
      "image/png": "[encoded data removed]",
      "text/plain": [
       "<Figure size 600x400 with 1 Axes>"
      ]
     },
     "metadata": {},
     "output_type": "display_data"
    }
   ],
   "source": [
    "# Accuracy over epochs\n",
    "plot_accuracy_curve(train_accuracies, val_accuracies)"
   ]
  },
  {
   "cell_type": "code",
   "execution_count": 104,
   "metadata": {},
   "outputs": [
    {
     "data": {
      "image/png": "[encoded data removed]",
      "text/plain": [
       "<Figure size 500x400 with 1 Axes>"
      ]
     },
     "metadata": {},
     "output_type": "display_data"
    }
   ],
   "source": [
    "# confusion matrix\n",
    "plot_confusion_matrix(all_labels, preds)"
   ]
  },
  {
   "cell_type": "code",
   "execution_count": 105,
   "metadata": {},
   "outputs": [
    {
     "name": "stdout",
     "output_type": "stream",
     "text": [
      "              precision  recall  f1-score  support\n",
      "Negative          0.864   0.717     0.784    53.00\n",
      "Positive          0.732   0.872     0.796    47.00\n",
      "accuracy          0.790   0.790     0.790     0.79\n",
      "macro avg         0.798   0.795     0.790   100.00\n",
      "weighted avg      0.802   0.790     0.789   100.00\n"
     ]
    }
   ],
   "source": [
    "# classification report\n",
    "report_df = classification_report_table(all_labels, preds)\n",
    "print(report_df)"
   ]
  },
  {
   "cell_type": "markdown",
   "metadata": {},
   "source": [
    "Sentiment Prediction"
   ]
  },
  {
   "cell_type": "code",
   "execution_count": 91,
   "metadata": {},
   "outputs": [],
   "source": [
    "def predict_sentiment(text):\n",
    "    import re\n",
    "    from torch.nn.functional import sigmoid\n",
    "    from nltk.corpus import words\n",
    "    english_words = set(words.words())\n",
    "\n",
    "    raw_input = text.strip()\n",
    "    if not raw_input:\n",
    "        return \"❌ Invalid input: Please enter some text.\"\n",
    "\n",
    "    # Clean and validate\n",
    "    text = clean_text(raw_input)\n",
    "    if not text:\n",
    "        return \"❌ Invalid input: Please enter a meaningful sentence.\"\n",
    "\n",
    "    # Token check\n",
    "    tokens = tokenizer.tokenize(text)\n",
    "    if not tokens or tokens == ['[UNK]']:\n",
    "        return \"❌ Invalid input: Please enter a meaningful sentence.\"\n",
    "\n",
    "    # Language realism check: does it contain any real English words?\n",
    "    real_words = [word for word in text.lower().split() if word in english_words]\n",
    "    if len(real_words) == 0:\n",
    "        return \"❌ Invalid input: Your input doesn't contain recognizable English words.\"\n",
    "\n",
    "    # Prediction\n",
    "    model.eval()\n",
    "    inputs = tokenizer(text, return_tensors=\"pt\", padding=True, truncation=True, max_length=512).to(device)\n",
    "    with torch.no_grad():\n",
    "        outputs = model(**inputs)\n",
    "        prob = sigmoid(outputs).item()\n",
    "        pred = 1 if prob > 0.50 else 0\n",
    "\n",
    "    return \"😊 Positive\" if pred == 1 else \"😞 Negative\"\n"
   ]
  },
  {
   "cell_type": "markdown",
   "metadata": {},
   "source": [
    "Test Cases"
   ]
  },
  {
   "cell_type": "code",
   "execution_count": 88,
   "metadata": {},
   "outputs": [
    {
     "name": "stdout",
     "output_type": "stream",
     "text": [
      "\n",
      "Test Review Sentiment:\n",
      "Input: This movie was absolutely fantastic, with great performances! :: Sentiment: 😊 Positive\n",
      "Input: VABSJVASJKVAS :: Sentiment: ❌ Invalid input: Your input doesn't contain recognizable English words.\n"
     ]
    }
   ],
   "source": [
    "example_review = \"This movie was absolutely fantastic, with great performances!\"\n",
    "gibberish_input = \"VABSJVASJKVAS\"\n",
    "\n",
    "print(f\"\\nTest Review Sentiment:\\nInput: {example_review} :: Sentiment: {predict_sentiment(example_review)}\")\n",
    "print(f\"Input: {gibberish_input} :: Sentiment: {predict_sentiment(gibberish_input)}\")"
   ]
  },
  {
   "cell_type": "code",
   "execution_count": null,
   "metadata": {},
   "outputs": [
    {
     "name": "stdout",
     "output_type": "stream",
     "text": [
      "Input: Blank Space -  ❌ Invalid input: Please enter some text.\n",
      "Input: Token Fragment -  ❌ Invalid input: Please enter a meaningful sentence.\n",
      "Input: Short Valid inputs -  😊 Positive\n",
      "😊 Positive\n",
      "😞 Negative\n",
      "❌ Invalid input: Your input doesn't contain recognizable English words.\n"
     ]
    }
   ],
   "source": [
    "print(\"Input: Blank Space - \",predict_sentiment(\"\"))  # Empty input\n",
    "print(\"Input: Token Fragment - \", predict_sentiment(\"##\"))  # Token fragments only\n",
    "print(\"Input: Short Valid inputs - \", predict_sentiment(\"Good\"))  # Extremely short but valid input\n"
   ]
  },
  {
   "cell_type": "code",
   "execution_count": null,
   "metadata": {},
   "outputs": [],
   "source": [
    "print(predict_sentiment(\"Wonderful movie!\"))\n",
    "print(predict_sentiment(\"Horrible and slow.\"))\n",
    "print(predict_sentiment(\"VABSJVASJKVAS\"))"
   ]
  },
  {
   "cell_type": "markdown",
   "metadata": {},
   "source": [
    "User Interface to Test Predictions"
   ]
  },
  {
   "cell_type": "code",
   "execution_count": 90,
   "metadata": {},
   "outputs": [
    {
     "name": "stdout",
     "output_type": "stream",
     "text": [
      "* Running on local URL:  http://127.0.0.1:7865\n",
      "\n",
      "To create a public link, set `share=True` in `launch()`.\n"
     ]
    },
    {
     "data": {
      "text/html": [
       "<div><iframe src=\"http://127.0.0.1:7865/\" width=\"100%\" height=\"500\" allow=\"autoplay; camera; microphone; clipboard-read; clipboard-write;\" frameborder=\"0\" allowfullscreen></iframe></div>"
      ],
      "text/plain": [
       "<IPython.core.display.HTML object>"
      ]
     },
     "metadata": {},
     "output_type": "display_data"
    },
    {
     "data": {
      "text/plain": []
     },
     "execution_count": 90,
     "metadata": {},
     "output_type": "execute_result"
    }
   ],
   "source": [
    "import gradio as gr\n",
    "\n",
    "gr.Interface(\n",
    "    fn=predict_sentiment,\n",
    "    inputs=gr.Textbox(lines=3, placeholder=\"Enter a movie review...\", label=\"Movie Review\"),\n",
    "    outputs=gr.Text(label=\"Sentiment\"),\n",
    "    title=\"🎬 Movie Review Sentiment Analyzer\",\n",
    "    description=\"Enter a movie review below and get the predicted sentiment using a fine-tuned DistilBERT model. Gibberish will be rejected politely!\"\n",
    ").launch()"
   ]
  }
 ],
 "metadata": {
  "kernelspec": {
   "display_name": "Python 3",
   "language": "python",
   "name": "python3"
  },
  "language_info": {
   "codemirror_mode": {
    "name": "ipython",
    "version": 3
   },
   "file_extension": ".py",
   "mimetype": "text/x-python",
   "name": "python",
   "nbconvert_exporter": "python",
   "pygments_lexer": "ipython3",
   "version": "3.11.8"
  }
 },
 "nbformat": 4,
 "nbformat_minor": 2
}
